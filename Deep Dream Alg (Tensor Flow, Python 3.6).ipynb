{
 "cells": [
  {
   "cell_type": "markdown",
   "metadata": {},
   "source": [
    "## Deep Dream:\n",
    "\n",
    "Here list the basic algorithm stream of the deep dream:\n",
    "\n",
    "1. Input a image and we read it as a numpy array of float numbers\n",
    "2. Pass the numpy array into trained models (Inception model from google)\n",
    "3. Update the image numpy array based on the gradient of certain layer from model\n",
    "4. Repeat 3. until we like it to stop (choosing a stop time.)\n",
    "\n",
    "Inception模型是在相当低分辨率的图像上进行训练的，大概200-300像素。所以，当我们使用更大分辨率的图像时，DeepDream算法会在图像中创建许多小的图案。 \n",
    "一个解决方案是将输入图像缩小到200-300像素。但是这么低的分辨率（的结果）是像素化而且丑陋的。\n",
    "\n",
    "那么另外一种方案就是逐层缩小原始图，然后再小图上运行deep dream，然后再up scale输出回去：\n",
    "\n",
    "Input - > Downscale  ->  Small Image 1-> ... Downscale -> Small Graph n\n",
    "             |                 |                    |               |\n",
    "             V                 V                    V               V\n",
    "Output<-----Upscale  <----- DeepDream   <--------Upscale   <------Deepdream                        \n",
    "\n"
   ]
  },
  {
   "cell_type": "code",
   "execution_count": 3,
   "metadata": {},
   "outputs": [
    {
     "name": "stdout",
     "output_type": "stream",
     "text": [
      "Downloading Inception 5h Model ...\n",
      "Data has apparently already been downloaded and unpacked.\n"
     ]
    }
   ],
   "source": [
    "import matplotlib.pyplot as plt\n",
    "import tensorflow as tf\n",
    "import numpy as np\n",
    "import random\n",
    "import math\n",
    "\n",
    "# Image manipulation.\n",
    "import PIL.Image\n",
    "from scipy.ndimage.filters import gaussian_filter\n",
    "\n",
    "# Download the model:\n",
    "import inception5h\n",
    "import download\n",
    "\n",
    "inception5h.maybe_download()"
   ]
  },
  {
   "cell_type": "markdown",
   "metadata": {},
   "source": [
    "以上我们把将会需要用到的包调用完了，最后*inception5h.py*是一个下载inception model的脚本，载入模型的话只需要:"
   ]
  },
  {
   "cell_type": "code",
   "execution_count": 9,
   "metadata": {},
   "outputs": [
    {
     "data": {
      "text/plain": [
       "[<tf.Tensor 'conv2d0:0' shape=(?, ?, ?, 64) dtype=float32>,\n",
       " <tf.Tensor 'conv2d1:0' shape=(?, ?, ?, 64) dtype=float32>,\n",
       " <tf.Tensor 'conv2d2:0' shape=(?, ?, ?, 192) dtype=float32>,\n",
       " <tf.Tensor 'mixed3a:0' shape=(?, ?, ?, 256) dtype=float32>,\n",
       " <tf.Tensor 'mixed3b:0' shape=(?, ?, ?, 480) dtype=float32>,\n",
       " <tf.Tensor 'mixed4a:0' shape=(?, ?, ?, 508) dtype=float32>,\n",
       " <tf.Tensor 'mixed4b:0' shape=(?, ?, ?, 512) dtype=float32>,\n",
       " <tf.Tensor 'mixed4c:0' shape=(?, ?, ?, 512) dtype=float32>,\n",
       " <tf.Tensor 'mixed4d:0' shape=(?, ?, ?, 528) dtype=float32>,\n",
       " <tf.Tensor 'mixed4e:0' shape=(?, ?, ?, 832) dtype=float32>,\n",
       " <tf.Tensor 'mixed5a:0' shape=(?, ?, ?, 832) dtype=float32>,\n",
       " <tf.Tensor 'mixed5b:0' shape=(?, ?, ?, 1024) dtype=float32>]"
      ]
     },
     "execution_count": 9,
     "metadata": {},
     "output_type": "execute_result"
    }
   ],
   "source": [
    "model = inception5h.Inception5h()\n",
    "len(model.layer_tensors) # Inception5h.py Inception5h() listed 12 usually used layers \n",
    "model.layer_tensors"
   ]
  },
  {
   "cell_type": "markdown",
   "metadata": {},
   "source": [
    "As we can see that all the 12 layers are "
   ]
  }
 ],
 "metadata": {
  "kernelspec": {
   "display_name": "Python 3",
   "language": "python",
   "name": "python3"
  },
  "language_info": {
   "codemirror_mode": {
    "name": "ipython",
    "version": 3
   },
   "file_extension": ".py",
   "mimetype": "text/x-python",
   "name": "python",
   "nbconvert_exporter": "python",
   "pygments_lexer": "ipython3",
   "version": "3.6.3"
  }
 },
 "nbformat": 4,
 "nbformat_minor": 2
}
